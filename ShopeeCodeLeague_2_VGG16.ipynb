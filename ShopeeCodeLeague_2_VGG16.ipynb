{
  "nbformat": 4,
  "nbformat_minor": 0,
  "metadata": {
    "kernelspec": {
      "display_name": "Python 3",
      "language": "python",
      "name": "python3"
    },
    "language_info": {
      "name": "python",
      "version": "3.6.6",
      "mimetype": "text/x-python",
      "codemirror_mode": {
        "name": "ipython",
        "version": 3
      },
      "pygments_lexer": "ipython3",
      "nbconvert_exporter": "python",
      "file_extension": ".py"
    },
    "colab": {
      "name": "ShopeeCodeLeague#2_VGG16.ipynb",
      "provenance": [],
      "collapsed_sections": []
    },
    "accelerator": "TPU"
  },
  "cells": [
    {
      "cell_type": "markdown",
      "metadata": {
        "_uuid": "fe76d1d1ded592430e7548feacfa38dc42f085d9",
        "id": "hgEwB9EC2Ua-",
        "colab_type": "text"
      },
      "source": [
        "# Import Library"
      ]
    },
    {
      "cell_type": "code",
      "metadata": {
        "id": "jqfOM2AuNyUa",
        "colab_type": "code",
        "colab": {}
      },
      "source": [
        "%reset -f"
      ],
      "execution_count": null,
      "outputs": []
    },
    {
      "cell_type": "code",
      "metadata": {
        "id": "-typLSc52xxH",
        "colab_type": "code",
        "colab": {
          "base_uri": "https://localhost:8080/",
          "height": 122
        },
        "outputId": "f734a664-1b3a-459d-925c-876dee0b61f5"
      },
      "source": [
        "from google.colab import drive\n",
        "drive.mount('/content/drive')"
      ],
      "execution_count": null,
      "outputs": [
        {
          "output_type": "stream",
          "text": [
            "Go to this URL in a browser: https://accounts.google.com/o/oauth2/auth?client_id=947318989803-6bn6qk8qdgf4n4g3pfee6491hc0brc4i.apps.googleusercontent.com&redirect_uri=urn%3aietf%3awg%3aoauth%3a2.0%3aoob&response_type=code&scope=email%20https%3a%2f%2fwww.googleapis.com%2fauth%2fdocs.test%20https%3a%2f%2fwww.googleapis.com%2fauth%2fdrive%20https%3a%2f%2fwww.googleapis.com%2fauth%2fdrive.photos.readonly%20https%3a%2f%2fwww.googleapis.com%2fauth%2fpeopleapi.readonly\n",
            "\n",
            "Enter your authorization code:\n",
            "··········\n",
            "Mounted at /content/drive\n"
          ],
          "name": "stdout"
        }
      ]
    },
    {
      "cell_type": "code",
      "metadata": {
        "_uuid": "8f2839f25d086af736a60e9eeb907d3b93b6e0e5",
        "_cell_guid": "b1076dfc-b9ad-4769-8c92-a6c4dae69d19",
        "trusted": true,
        "id": "XHbsS1ob2UbA",
        "colab_type": "code",
        "colab": {}
      },
      "source": [
        "import numpy as np # linear algebra\n",
        "import pandas as pd # data processing, CSV file I/O (e.g. pd.read_csv)\n",
        "\n",
        "from keras.preprocessing.image import ImageDataGenerator, load_img\n",
        "from keras.utils import to_categorical\n",
        "from sklearn.model_selection import train_test_split\n",
        "import matplotlib.pyplot as plt\n",
        "import random\n",
        "from keras.applications.vgg16 import VGG16\n",
        "from keras.preprocessing import image\n",
        "from keras.applications.vgg16 import preprocess_input, decode_predictions\n",
        "\n",
        "import os\n",
        "os.chdir('/content/drive/My Drive/Data/Shopee Code League 2020/C2_Product Detection/train/train')\n"
      ],
      "execution_count": null,
      "outputs": []
    },
    {
      "cell_type": "code",
      "metadata": {
        "id": "xW-MkMHG6lEi",
        "colab_type": "code",
        "colab": {
          "base_uri": "https://localhost:8080/",
          "height": 54
        },
        "outputId": "ca47ba22-05aa-4205-d261-589e2f8ad063"
      },
      "source": [
        "train_folders = os.listdir('/content/drive/My Drive/Data/Shopee Code League 2020/C2_Product Detection/train/train/')\n",
        "print(train_folders)\n",
        "\n",
        "train_path = '/content/drive/My Drive/Data/Shopee Code League 2020/C2_Product Detection/train/train/'"
      ],
      "execution_count": null,
      "outputs": [
        {
          "output_type": "stream",
          "text": [
            "['32', '40', '27', '38', '39', '35', '20', '22', '23', '24', '34', '33', '09', '03', '01', '04', '08', '07', '02', '05', '00', '06', '11', '10', '18', '14', '15', '19', '17', '12', '13', '16', '26', '21', '25', '29', '28', '30', '31', '37', '36', '41']\n"
          ],
          "name": "stdout"
        }
      ]
    },
    {
      "cell_type": "markdown",
      "metadata": {
        "_uuid": "7335a579cc0268fba5d34d6f7558f33c187eedb3",
        "id": "rL0akyMF2UbJ",
        "colab_type": "text"
      },
      "source": [
        "# Prepare Traning Data"
      ]
    },
    {
      "cell_type": "code",
      "metadata": {
        "id": "r_qFQ5Ep60XI",
        "colab_type": "code",
        "colab": {}
      },
      "source": [
        "filenames_list = []\n",
        "categories = []\n",
        "from itertools import repeat\n",
        "\n",
        "for i in train_folders:\n",
        "  fname_list = os.listdir(train_path+i)\n",
        "  filenames_list.extend(fname_list)\n",
        "  categories.extend(repeat(i.zfill(2),len(fname_list)))"
      ],
      "execution_count": null,
      "outputs": []
    },
    {
      "cell_type": "code",
      "metadata": {
        "id": "4jbNlAj6-CgZ",
        "colab_type": "code",
        "colab": {
          "base_uri": "https://localhost:8080/",
          "height": 204
        },
        "outputId": "d2a01915-d8f2-4cfd-c87a-1110ac8caa43"
      },
      "source": [
        "df_train = pd.DataFrame({\n",
        "    'filename': filenames_list,\n",
        "    'category': categories\n",
        "})\n",
        "df_train.head()"
      ],
      "execution_count": null,
      "outputs": [
        {
          "output_type": "execute_result",
          "data": {
            "text/html": [
              "<div>\n",
              "<style scoped>\n",
              "    .dataframe tbody tr th:only-of-type {\n",
              "        vertical-align: middle;\n",
              "    }\n",
              "\n",
              "    .dataframe tbody tr th {\n",
              "        vertical-align: top;\n",
              "    }\n",
              "\n",
              "    .dataframe thead th {\n",
              "        text-align: right;\n",
              "    }\n",
              "</style>\n",
              "<table border=\"1\" class=\"dataframe\">\n",
              "  <thead>\n",
              "    <tr style=\"text-align: right;\">\n",
              "      <th></th>\n",
              "      <th>filename</th>\n",
              "      <th>category</th>\n",
              "    </tr>\n",
              "  </thead>\n",
              "  <tbody>\n",
              "    <tr>\n",
              "      <th>0</th>\n",
              "      <td>6558226b23c790447b790fe9ee1bf404.jpg</td>\n",
              "      <td>32</td>\n",
              "    </tr>\n",
              "    <tr>\n",
              "      <th>1</th>\n",
              "      <td>65f94ab251a40b367cdc1227627701c6.jpg</td>\n",
              "      <td>32</td>\n",
              "    </tr>\n",
              "    <tr>\n",
              "      <th>2</th>\n",
              "      <td>641183bad4968355e01e391d05023fc9.jpg</td>\n",
              "      <td>32</td>\n",
              "    </tr>\n",
              "    <tr>\n",
              "      <th>3</th>\n",
              "      <td>63de2095b03f23cf0ec85dc6ff907bf3.jpg</td>\n",
              "      <td>32</td>\n",
              "    </tr>\n",
              "    <tr>\n",
              "      <th>4</th>\n",
              "      <td>625f589f9b77a8ef49e2c2be56bc79c7.jpg</td>\n",
              "      <td>32</td>\n",
              "    </tr>\n",
              "  </tbody>\n",
              "</table>\n",
              "</div>"
            ],
            "text/plain": [
              "                               filename category\n",
              "0  6558226b23c790447b790fe9ee1bf404.jpg       32\n",
              "1  65f94ab251a40b367cdc1227627701c6.jpg       32\n",
              "2  641183bad4968355e01e391d05023fc9.jpg       32\n",
              "3  63de2095b03f23cf0ec85dc6ff907bf3.jpg       32\n",
              "4  625f589f9b77a8ef49e2c2be56bc79c7.jpg       32"
            ]
          },
          "metadata": {
            "tags": []
          },
          "execution_count": 7
        }
      ]
    },
    {
      "cell_type": "code",
      "metadata": {
        "id": "MTKJggf7_CV7",
        "colab_type": "code",
        "colab": {}
      },
      "source": [
        "df_train['fname_full']=df_train['category']+'/'+df_train['filename']"
      ],
      "execution_count": null,
      "outputs": []
    },
    {
      "cell_type": "markdown",
      "metadata": {
        "_uuid": "a999484fc35b73373fafe2253ae9db7ff46fdb90",
        "id": "FBNvo-P02Ubb",
        "colab_type": "text"
      },
      "source": [
        "### See Total In count"
      ]
    },
    {
      "cell_type": "code",
      "metadata": {
        "id": "gWJJXz6Gazzf",
        "colab_type": "code",
        "colab": {}
      },
      "source": [
        "#Double check\n",
        "print(len(os.listdir('/content/drive/My Drive/SCL_2/shopee-product-detection-dataset/train/train/00')))\n",
        "print(sum(df_train['category']=='00'))"
      ],
      "execution_count": null,
      "outputs": []
    },
    {
      "cell_type": "code",
      "metadata": {
        "id": "3AtlZyPqNiE1",
        "colab_type": "code",
        "colab": {}
      },
      "source": [
        "df_train['category'].value_counts()"
      ],
      "execution_count": null,
      "outputs": []
    },
    {
      "cell_type": "code",
      "metadata": {
        "trusted": true,
        "_uuid": "fa26f0bc7a6d835a24989790b20f3c6f32946f45",
        "id": "ygzjbPxx2Ubc",
        "colab_type": "code",
        "colab": {}
      },
      "source": [
        "df_train['category'].value_counts().plot.bar(figsize=(10,5))"
      ],
      "execution_count": null,
      "outputs": []
    },
    {
      "cell_type": "code",
      "metadata": {
        "id": "31wY-TuzPTJ2",
        "colab_type": "code",
        "colab": {}
      },
      "source": [
        "dict_label ={}\n",
        "dict_label[0]='女性衣物'\n",
        "dict_label[1]='女性長板'\n",
        "dict_label[2]='女性上衣'\n",
        "dict_label[3]='女性hoodie'\n",
        "dict_label[4]='女性牛仔褲'\n",
        "dict_label[5]='女性飾品'\n",
        "dict_label[6]='女性耳環'\n",
        "dict_label[7]='鴨舌帽子'\n",
        "dict_label[8]='長夾'\n",
        "dict_label[9]='手提包'\n",
        "\n",
        "dict_label[10]='手機殼'\n",
        "dict_label[11]='iphone'\n",
        "dict_label[12]='時鐘'\n",
        "dict_label[13]='嬰兒用品(奶瓶)'\n",
        "dict_label[14]='電鍋'\n",
        "dict_label[15]='咖啡豆(袋裝產品)'\n",
        "dict_label[16]='女性平底鞋'\n",
        "dict_label[17]='女性根鞋'\n",
        "dict_label[18]='家用電器'\n",
        "dict_label[19]='USB'\n",
        "\n",
        "dict_label[20]='椅子'\n",
        "dict_label[21]='網球拍(狄卡農會賣的東西)'\n",
        "dict_label[22]='安全帽(腳踏車)'\n",
        "dict_label[23]='手套'\n",
        "dict_label[24]='手錶'\n",
        "dict_label[25]='皮帶'\n",
        "dict_label[26]='耳塞式耳機'\n",
        "dict_label[27]='玩具車'\n",
        "dict_label[28]='男性長袖'\n",
        "dict_label[29]='男性長褲'\n",
        "\n",
        "dict_label[30]='運動鞋'\n",
        "dict_label[31]='包裝甜食'\n",
        "dict_label[32]='防疫用品'\n",
        "dict_label[33]='清洗劑類'\n",
        "dict_label[34]='化妝用品'\n",
        "dict_label[35]='香水'\n",
        "dict_label[36]='露營用品'#Not Sure\n",
        "dict_label[37]='notebook'\n",
        "dict_label[38]='餐具'\n",
        "dict_label[39]='家庭裝飾(乾燥花之類的植物)'\n",
        "\n",
        "dict_label[40]='蓮蓬頭'\n",
        "dict_label[41]='沙發等大型椅子'"
      ],
      "execution_count": null,
      "outputs": []
    },
    {
      "cell_type": "markdown",
      "metadata": {
        "_uuid": "400a293df3c8499059d9175f3915187074efd971",
        "id": "nY7cYDwZ2Ubg",
        "colab_type": "text"
      },
      "source": [
        "###  VGG Prediction"
      ]
    },
    {
      "cell_type": "code",
      "metadata": {
        "id": "tFNJLcJiQCxp",
        "colab_type": "code",
        "colab": {
          "base_uri": "https://localhost:8080/",
          "height": 54
        },
        "outputId": "415322ef-b291-4965-be19-b9e59be5faac"
      },
      "source": [
        "img_path = train_path+df_train['fname_full'][1]\n",
        "print(img_path)"
      ],
      "execution_count": null,
      "outputs": [
        {
          "output_type": "stream",
          "text": [
            "/content/drive/My Drive/SCL_2/shopee-product-detection-dataset/train/train_share/train/01/a0c202321099b202db6198c23f5899de.jpg\n"
          ],
          "name": "stdout"
        }
      ]
    },
    {
      "cell_type": "code",
      "metadata": {
        "id": "3IaDqxGmRbHZ",
        "colab_type": "code",
        "colab": {
          "base_uri": "https://localhost:8080/",
          "height": 286
        },
        "outputId": "8d39b92f-6494-4016-b700-13512d93153f"
      },
      "source": [
        "sample_img = load_img(img_path)\n",
        "plt.imshow(sample_img)"
      ],
      "execution_count": null,
      "outputs": [
        {
          "output_type": "execute_result",
          "data": {
            "text/plain": [
              "<matplotlib.image.AxesImage at 0x7fecde513128>"
            ]
          },
          "metadata": {
            "tags": []
          },
          "execution_count": 32
        },
        {
          "output_type": "display_data",
          "data": {
            "image/png": "[encoded data removed]",
            "text/plain": [
              "<Figure size 432x288 with 1 Axes>"
            ]
          },
          "metadata": {
            "tags": [],
            "needs_background": "light"
          }
        }
      ]
    },
    {
      "cell_type": "code",
      "metadata": {
        "id": "ie_0TI7YGAnH",
        "colab_type": "code",
        "colab": {
          "base_uri": "https://localhost:8080/",
          "height": 34
        },
        "outputId": "44cad75c-6806-499f-eb5b-6b9050c9cb27"
      },
      "source": [
        "img = image.load_img(img_path, target_size=(224, 224))\n",
        "x = image.img_to_array(img)\n",
        "print(x.shape)"
      ],
      "execution_count": null,
      "outputs": [
        {
          "output_type": "stream",
          "text": [
            "(224, 224, 3)\n"
          ],
          "name": "stdout"
        }
      ]
    },
    {
      "cell_type": "code",
      "metadata": {
        "id": "VuXcA3amPpA8",
        "colab_type": "code",
        "colab": {}
      },
      "source": [
        "#Sample 1\n",
        "model = VGG16(weights='imagenet', include_top=True) \n",
        "\n",
        "img = image.load_img(img_path, target_size=(224, 224))\n",
        "x = image.img_to_array(img)\n",
        "x = np.expand_dims(x, axis=0)\n",
        "x = preprocess_input(x)\n",
        "\n",
        "features = model.predict(x)\n",
        "print('Predicted:', decode_predictions(features, top=5)[0])"
      ],
      "execution_count": null,
      "outputs": []
    },
    {
      "cell_type": "code",
      "metadata": {
        "id": "qQfqH-ToetLU",
        "colab_type": "code",
        "colab": {}
      },
      "source": [
        "#https://www.kaggle.com/rupeshwadibhasme/transfer-learning-with-vgg16\n",
        "#https://www.kaggle.com/niclasdoce/vgg16-transfer-learning-sample"
      ],
      "execution_count": null,
      "outputs": []
    },
    {
      "cell_type": "markdown",
      "metadata": {
        "id": "bVLa9AY02-Dq",
        "colab_type": "text"
      },
      "source": [
        " **Split Train Validation Data**"
      ]
    },
    {
      "cell_type": "code",
      "metadata": {
        "id": "6iMYQtuY29ba",
        "colab_type": "code",
        "colab": {}
      },
      "source": [
        "#subset\n",
        "#df_train=df_train[df_train['category'].isin(['00','01','02','03'])]#因為我這邊只先挑三類,會影響後面最後一層N_Dense的數量,記得同步\n",
        "df_train = df_train.reset_index()"
      ],
      "execution_count": null,
      "outputs": []
    },
    {
      "cell_type": "code",
      "metadata": {
        "id": "xayCukSa38N6",
        "colab_type": "code",
        "colab": {
          "base_uri": "https://localhost:8080/",
          "height": 142
        },
        "outputId": "f413d5d4-e8b6-4a2b-dcb4-dd1e0c80d497"
      },
      "source": [
        "df_train.head(3)"
      ],
      "execution_count": null,
      "outputs": [
        {
          "output_type": "execute_result",
          "data": {
            "text/html": [
              "<div>\n",
              "<style scoped>\n",
              "    .dataframe tbody tr th:only-of-type {\n",
              "        vertical-align: middle;\n",
              "    }\n",
              "\n",
              "    .dataframe tbody tr th {\n",
              "        vertical-align: top;\n",
              "    }\n",
              "\n",
              "    .dataframe thead th {\n",
              "        text-align: right;\n",
              "    }\n",
              "</style>\n",
              "<table border=\"1\" class=\"dataframe\">\n",
              "  <thead>\n",
              "    <tr style=\"text-align: right;\">\n",
              "      <th></th>\n",
              "      <th>index</th>\n",
              "      <th>filename</th>\n",
              "      <th>category</th>\n",
              "      <th>fname_full</th>\n",
              "    </tr>\n",
              "  </thead>\n",
              "  <tbody>\n",
              "    <tr>\n",
              "      <th>0</th>\n",
              "      <td>0</td>\n",
              "      <td>6558226b23c790447b790fe9ee1bf404.jpg</td>\n",
              "      <td>32</td>\n",
              "      <td>32/6558226b23c790447b790fe9ee1bf404.jpg</td>\n",
              "    </tr>\n",
              "    <tr>\n",
              "      <th>1</th>\n",
              "      <td>1</td>\n",
              "      <td>65f94ab251a40b367cdc1227627701c6.jpg</td>\n",
              "      <td>32</td>\n",
              "      <td>32/65f94ab251a40b367cdc1227627701c6.jpg</td>\n",
              "    </tr>\n",
              "    <tr>\n",
              "      <th>2</th>\n",
              "      <td>2</td>\n",
              "      <td>641183bad4968355e01e391d05023fc9.jpg</td>\n",
              "      <td>32</td>\n",
              "      <td>32/641183bad4968355e01e391d05023fc9.jpg</td>\n",
              "    </tr>\n",
              "  </tbody>\n",
              "</table>\n",
              "</div>"
            ],
            "text/plain": [
              "   index  ...                               fname_full\n",
              "0      0  ...  32/6558226b23c790447b790fe9ee1bf404.jpg\n",
              "1      1  ...  32/65f94ab251a40b367cdc1227627701c6.jpg\n",
              "2      2  ...  32/641183bad4968355e01e391d05023fc9.jpg\n",
              "\n",
              "[3 rows x 4 columns]"
            ]
          },
          "metadata": {
            "tags": []
          },
          "execution_count": 10
        }
      ]
    },
    {
      "cell_type": "code",
      "metadata": {
        "id": "Un4azUoH8WYd",
        "colab_type": "code",
        "colab": {
          "base_uri": "https://localhost:8080/",
          "height": 748
        },
        "outputId": "a6bdc3fa-9f89-471a-a523-ee5ed1ae8c21"
      },
      "source": [
        "df_train['category'].value_counts()"
      ],
      "execution_count": null,
      "outputs": [
        {
          "output_type": "execute_result",
          "data": {
            "text/plain": [
              "24    2705\n",
              "30    2705\n",
              "04    2703\n",
              "01    2703\n",
              "03    2703\n",
              "27    2702\n",
              "08    2700\n",
              "09    2698\n",
              "25    2692\n",
              "12    2691\n",
              "02    2687\n",
              "36    2686\n",
              "14    2685\n",
              "26    2684\n",
              "00    2683\n",
              "13    2682\n",
              "40    2681\n",
              "19    2679\n",
              "39    2678\n",
              "31    2677\n",
              "38    2673\n",
              "10    2673\n",
              "16    2665\n",
              "41    2662\n",
              "07    2661\n",
              "35    2658\n",
              "20    2654\n",
              "06    2641\n",
              "05    2641\n",
              "15    2632\n",
              "22    2623\n",
              "34    2599\n",
              "21    2598\n",
              "28    2561\n",
              "23    2540\n",
              "32    2157\n",
              "29    2138\n",
              "18    2104\n",
              "11    1843\n",
              "37    1725\n",
              "17    1553\n",
              "33     573\n",
              "Name: category, dtype: int64"
            ]
          },
          "metadata": {
            "tags": []
          },
          "execution_count": 11
        }
      ]
    },
    {
      "cell_type": "code",
      "metadata": {
        "id": "11QZaf3L_5Sd",
        "colab_type": "code",
        "colab": {}
      },
      "source": [
        "#split train,val dataset\n",
        "df_train_t, df_train_v = train_test_split(df_train, test_size=0.2)"
      ],
      "execution_count": null,
      "outputs": []
    },
    {
      "cell_type": "code",
      "metadata": {
        "id": "29oZjXhFAQ7w",
        "colab_type": "code",
        "colab": {}
      },
      "source": [
        "df_train_t = df_train_t.reset_index(drop=True)\n",
        "df_train_v = df_train_v.reset_index(drop=True)\n",
        "\n",
        "#測試code的時候再用\n",
        "#df_train_t = df_train_t.sample(n=400).reset_index(drop=True) # use for fast testing code purpose\n",
        "#df_train_v = df_train_v.sample(n=100).reset_index(drop=True) # use for fast testing code purpose\n",
        "\n",
        "total_train = df_train_t.shape[0]\n",
        "total_validate = df_train_v.shape[0]"
      ],
      "execution_count": null,
      "outputs": []
    },
    {
      "cell_type": "markdown",
      "metadata": {
        "id": "-QRiuU77RLsQ",
        "colab_type": "text"
      },
      "source": [
        "**VGG16**"
      ]
    },
    {
      "cell_type": "code",
      "metadata": {
        "id": "Ft1Bdq3p49W2",
        "colab_type": "code",
        "colab": {
          "base_uri": "https://localhost:8080/",
          "height": 833
        },
        "outputId": "7e864a47-5cfd-4e98-9f9b-974c882b1d2b"
      },
      "source": [
        "from keras.models import Sequential\n",
        "from keras import layers\n",
        "from keras.layers import Conv2D, MaxPooling2D, Dropout, Flatten, Dense, Activation,GlobalMaxPooling2D\n",
        "from keras import applications\n",
        "from keras.preprocessing.image import ImageDataGenerator\n",
        "from keras import optimizers\n",
        "from keras.applications import VGG16\n",
        "from keras.models import Model\n",
        "\n",
        "image_size = 224\n",
        "input_shape = (image_size, image_size, 3)\n",
        "\n",
        "epochs = 5\n",
        "batch_size = 16\n",
        "\n",
        "pre_trained_model = VGG16(input_shape=input_shape, include_top=False, weights=\"imagenet\")\n",
        "    \n",
        "for layer in pre_trained_model.layers[:15]:\n",
        "    layer.trainable = False\n",
        "\n",
        "for layer in pre_trained_model.layers[15:]:\n",
        "    layer.trainable = True    \n",
        "\n",
        "pre_trained_model.summary()"
      ],
      "execution_count": null,
      "outputs": [
        {
          "output_type": "stream",
          "text": [
            "Downloading data from https://github.com/fchollet/deep-learning-models/releases/download/v0.1/vgg16_weights_tf_dim_ordering_tf_kernels_notop.h5\n",
            "58892288/58889256 [==============================] - 1s 0us/step\n",
            "Model: \"vgg16\"\n",
            "_________________________________________________________________\n",
            "Layer (type)                 Output Shape              Param #   \n",
            "=================================================================\n",
            "input_1 (InputLayer)         (None, 224, 224, 3)       0         \n",
            "_________________________________________________________________\n",
            "block1_conv1 (Conv2D)        (None, 224, 224, 64)      1792      \n",
            "_________________________________________________________________\n",
            "block1_conv2 (Conv2D)        (None, 224, 224, 64)      36928     \n",
            "_________________________________________________________________\n",
            "block1_pool (MaxPooling2D)   (None, 112, 112, 64)      0         \n",
            "_________________________________________________________________\n",
            "block2_conv1 (Conv2D)        (None, 112, 112, 128)     73856     \n",
            "_________________________________________________________________\n",
            "block2_conv2 (Conv2D)        (None, 112, 112, 128)     147584    \n",
            "_________________________________________________________________\n",
            "block2_pool (MaxPooling2D)   (None, 56, 56, 128)       0         \n",
            "_________________________________________________________________\n",
            "block3_conv1 (Conv2D)        (None, 56, 56, 256)       295168    \n",
            "_________________________________________________________________\n",
            "block3_conv2 (Conv2D)        (None, 56, 56, 256)       590080    \n",
            "_________________________________________________________________\n",
            "block3_conv3 (Conv2D)        (None, 56, 56, 256)       590080    \n",
            "_________________________________________________________________\n",
            "block3_pool (MaxPooling2D)   (None, 28, 28, 256)       0         \n",
            "_________________________________________________________________\n",
            "block4_conv1 (Conv2D)        (None, 28, 28, 512)       1180160   \n",
            "_________________________________________________________________\n",
            "block4_conv2 (Conv2D)        (None, 28, 28, 512)       2359808   \n",
            "_________________________________________________________________\n",
            "block4_conv3 (Conv2D)        (None, 28, 28, 512)       2359808   \n",
            "_________________________________________________________________\n",
            "block4_pool (MaxPooling2D)   (None, 14, 14, 512)       0         \n",
            "_________________________________________________________________\n",
            "block5_conv1 (Conv2D)        (None, 14, 14, 512)       2359808   \n",
            "_________________________________________________________________\n",
            "block5_conv2 (Conv2D)        (None, 14, 14, 512)       2359808   \n",
            "_________________________________________________________________\n",
            "block5_conv3 (Conv2D)        (None, 14, 14, 512)       2359808   \n",
            "_________________________________________________________________\n",
            "block5_pool (MaxPooling2D)   (None, 7, 7, 512)         0         \n",
            "=================================================================\n",
            "Total params: 14,714,688\n",
            "Trainable params: 7,079,424\n",
            "Non-trainable params: 7,635,264\n",
            "_________________________________________________________________\n"
          ],
          "name": "stdout"
        }
      ]
    },
    {
      "cell_type": "code",
      "metadata": {
        "id": "xpSC0tJrDto9",
        "colab_type": "code",
        "colab": {}
      },
      "source": [
        "last_layer = pre_trained_model.get_layer('block5_pool')\n",
        "last_output = last_layer.output\n",
        "\n",
        "#因為我前面\n",
        "N_Dense = len(df_train['category'].unique())\n",
        "\n",
        "x = Flatten(name='flattern')(last_output)\n",
        "x = Dense(512, activation='relu',name='fc1')(x)\n",
        "x = Dense(512, activation='relu',name='fc2')(x)\n",
        "x = Dense(N_Dense, activation='sigmoid',name='pred')(x)"
      ],
      "execution_count": null,
      "outputs": []
    },
    {
      "cell_type": "code",
      "metadata": {
        "id": "S8ZnAOG4D7la",
        "colab_type": "code",
        "colab": {
          "base_uri": "https://localhost:8080/",
          "height": 935
        },
        "outputId": "45aa282d-3117-4063-e427-5167ffde57e2"
      },
      "source": [
        "model = Model(pre_trained_model.input, x)\n",
        "\n",
        "model.compile(loss='categorical_crossentropy',\n",
        "              optimizer=optimizers.Adam(lr=0.7),#optimizers.SGD(lr=0.5, momentum=0.9),\n",
        "              metrics=['accuracy'])\n",
        "\n",
        "model.summary()"
      ],
      "execution_count": null,
      "outputs": [
        {
          "output_type": "stream",
          "text": [
            "Model: \"model_1\"\n",
            "_________________________________________________________________\n",
            "Layer (type)                 Output Shape              Param #   \n",
            "=================================================================\n",
            "input_1 (InputLayer)         (None, 224, 224, 3)       0         \n",
            "_________________________________________________________________\n",
            "block1_conv1 (Conv2D)        (None, 224, 224, 64)      1792      \n",
            "_________________________________________________________________\n",
            "block1_conv2 (Conv2D)        (None, 224, 224, 64)      36928     \n",
            "_________________________________________________________________\n",
            "block1_pool (MaxPooling2D)   (None, 112, 112, 64)      0         \n",
            "_________________________________________________________________\n",
            "block2_conv1 (Conv2D)        (None, 112, 112, 128)     73856     \n",
            "_________________________________________________________________\n",
            "block2_conv2 (Conv2D)        (None, 112, 112, 128)     147584    \n",
            "_________________________________________________________________\n",
            "block2_pool (MaxPooling2D)   (None, 56, 56, 128)       0         \n",
            "_________________________________________________________________\n",
            "block3_conv1 (Conv2D)        (None, 56, 56, 256)       295168    \n",
            "_________________________________________________________________\n",
            "block3_conv2 (Conv2D)        (None, 56, 56, 256)       590080    \n",
            "_________________________________________________________________\n",
            "block3_conv3 (Conv2D)        (None, 56, 56, 256)       590080    \n",
            "_________________________________________________________________\n",
            "block3_pool (MaxPooling2D)   (None, 28, 28, 256)       0         \n",
            "_________________________________________________________________\n",
            "block4_conv1 (Conv2D)        (None, 28, 28, 512)       1180160   \n",
            "_________________________________________________________________\n",
            "block4_conv2 (Conv2D)        (None, 28, 28, 512)       2359808   \n",
            "_________________________________________________________________\n",
            "block4_conv3 (Conv2D)        (None, 28, 28, 512)       2359808   \n",
            "_________________________________________________________________\n",
            "block4_pool (MaxPooling2D)   (None, 14, 14, 512)       0         \n",
            "_________________________________________________________________\n",
            "block5_conv1 (Conv2D)        (None, 14, 14, 512)       2359808   \n",
            "_________________________________________________________________\n",
            "block5_conv2 (Conv2D)        (None, 14, 14, 512)       2359808   \n",
            "_________________________________________________________________\n",
            "block5_conv3 (Conv2D)        (None, 14, 14, 512)       2359808   \n",
            "_________________________________________________________________\n",
            "block5_pool (MaxPooling2D)   (None, 7, 7, 512)         0         \n",
            "_________________________________________________________________\n",
            "flattern (Flatten)           (None, 25088)             0         \n",
            "_________________________________________________________________\n",
            "fc1 (Dense)                  (None, 512)               12845568  \n",
            "_________________________________________________________________\n",
            "fc2 (Dense)                  (None, 512)               262656    \n",
            "_________________________________________________________________\n",
            "pred (Dense)                 (None, 42)                21546     \n",
            "=================================================================\n",
            "Total params: 27,844,458\n",
            "Trainable params: 20,209,194\n",
            "Non-trainable params: 7,635,264\n",
            "_________________________________________________________________\n"
          ],
          "name": "stdout"
        }
      ]
    },
    {
      "cell_type": "code",
      "metadata": {
        "id": "PVMWmQPV6fq9",
        "colab_type": "code",
        "colab": {
          "base_uri": "https://localhost:8080/",
          "height": 88
        },
        "outputId": "84b634c1-62cf-4d4f-bdcf-601073f73723"
      },
      "source": [
        "#training generator\n",
        "train_datagen = ImageDataGenerator(\n",
        "    rotation_range=15,\n",
        "    rescale=1./255,\n",
        "    shear_range=0.2,\n",
        "    zoom_range=0.2,\n",
        "    horizontal_flip=True,\n",
        "    fill_mode='nearest',\n",
        "    width_shift_range=0.1,\n",
        "    height_shift_range=0.1\n",
        ")\n",
        "\n",
        "train_generator = train_datagen.flow_from_dataframe(\n",
        "    df_train_t, \n",
        "    train_path, \n",
        "    x_col='fname_full',\n",
        "    y_col='category',\n",
        "    target_size=(image_size, image_size),\n",
        "    batch_size=batch_size\n",
        ")"
      ],
      "execution_count": null,
      "outputs": [
        {
          "output_type": "stream",
          "text": [
            "/usr/local/lib/python3.6/dist-packages/keras_preprocessing/image/dataframe_iterator.py:282: UserWarning: Found 5 invalid image filename(s) in x_col=\"fname_full\". These filename(s) will be ignored.\n",
            "  .format(n_invalid, x_col)\n"
          ],
          "name": "stderr"
        },
        {
          "output_type": "stream",
          "text": [
            "Found 84313 validated image filenames belonging to 42 classes.\n"
          ],
          "name": "stdout"
        }
      ]
    },
    {
      "cell_type": "code",
      "metadata": {
        "id": "o_OWn-cQBt-h",
        "colab_type": "code",
        "colab": {
          "base_uri": "https://localhost:8080/",
          "height": 204
        },
        "outputId": "9c1d429d-b627-451e-e2fd-a56c79fd098e"
      },
      "source": [
        "df_train_t['category'].head(10)"
      ],
      "execution_count": null,
      "outputs": [
        {
          "output_type": "execute_result",
          "data": {
            "text/plain": [
              "0    14\n",
              "1    00\n",
              "2    40\n",
              "3    39\n",
              "4    24\n",
              "5    06\n",
              "6    05\n",
              "7    31\n",
              "8    21\n",
              "9    07\n",
              "Name: category, dtype: object"
            ]
          },
          "metadata": {
            "tags": []
          },
          "execution_count": 18
        }
      ]
    },
    {
      "cell_type": "code",
      "metadata": {
        "id": "fJOtwlbEAsCP",
        "colab_type": "code",
        "colab": {
          "base_uri": "https://localhost:8080/",
          "height": 88
        },
        "outputId": "1d1bde6a-3e6b-4d4e-92dc-127eb16eb1c3"
      },
      "source": [
        "#validation generator\n",
        "validation_datagen = ImageDataGenerator(rescale=1./255)\n",
        "validation_generator = validation_datagen.flow_from_dataframe(\n",
        "    df_train_v, \n",
        "    train_path, \n",
        "    x_col='fname_full',\n",
        "    y_col='category',\n",
        "    target_size=(image_size, image_size),\n",
        "    batch_size=batch_size\n",
        ")"
      ],
      "execution_count": null,
      "outputs": [
        {
          "output_type": "stream",
          "text": [
            "Found 21079 validated image filenames belonging to 42 classes.\n"
          ],
          "name": "stdout"
        },
        {
          "output_type": "stream",
          "text": [
            "/usr/local/lib/python3.6/dist-packages/keras_preprocessing/image/dataframe_iterator.py:282: UserWarning: Found 1 invalid image filename(s) in x_col=\"fname_full\". These filename(s) will be ignored.\n",
            "  .format(n_invalid, x_col)\n"
          ],
          "name": "stderr"
        }
      ]
    },
    {
      "cell_type": "code",
      "metadata": {
        "id": "5OmTLCu7BRTN",
        "colab_type": "code",
        "colab": {
          "base_uri": "https://localhost:8080/",
          "height": 51
        },
        "outputId": "75a58afa-505c-464e-dd41-b21cf4c6dc8c"
      },
      "source": [
        "# fine-tune the model\n",
        "history = model.fit_generator(\n",
        "    train_generator,\n",
        "    epochs=epochs,\n",
        "    validation_data=validation_generator,\n",
        "    validation_steps=total_validate//batch_size,\n",
        "    steps_per_epoch=total_train//batch_size)"
      ],
      "execution_count": null,
      "outputs": [
        {
          "output_type": "stream",
          "text": [
            "Epoch 1/5\n",
            "1595/5269 [========>.....................] - ETA: 9:37:21 - loss: 12.5788 - accuracy: 0.0259"
          ],
          "name": "stdout"
        }
      ]
    },
    {
      "cell_type": "code",
      "metadata": {
        "id": "pRjIOBqoOILj",
        "colab_type": "code",
        "colab": {}
      },
      "source": [
        "loss, accuracy = model.evaluate_generator(validation_generator) #, total_validate//batch_size, workers=12)\n",
        "print(\"Validation: accuracy = %f  ;  loss = %f \" % (accuracy, loss))"
      ],
      "execution_count": null,
      "outputs": []
    },
    {
      "cell_type": "code",
      "metadata": {
        "id": "gIX4tI0vD0WC",
        "colab_type": "code",
        "colab": {}
      },
      "source": [
        "model.save('/content/drive/My Drive/SCL_2/testmodel.h5') "
      ],
      "execution_count": null,
      "outputs": []
    }
  ]
}