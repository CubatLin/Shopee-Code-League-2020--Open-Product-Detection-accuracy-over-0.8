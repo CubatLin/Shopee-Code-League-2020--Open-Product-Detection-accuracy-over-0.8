{
  "nbformat": 4,
  "nbformat_minor": 0,
  "metadata": {
    "colab": {
      "name": "High Mount.ipynb",
      "provenance": [],
      "collapsed_sections": []
    },
    "kernelspec": {
      "name": "python3",
      "display_name": "Python 3"
    },
    "accelerator": "GPU"
  },
  "cells": [
    {
      "cell_type": "markdown",
      "metadata": {
        "id": "WPAsxHzbAL3T",
        "colab_type": "text"
      },
      "source": [
        "# **Shopee Programming Contest #2 - Highest Mountain**"
      ]
    },
    {
      "cell_type": "markdown",
      "metadata": {
        "id": "uAHU4osBAVZo",
        "colab_type": "text"
      },
      "source": [
        "Victor is assigned a task for planning quarterly team outings in Shopee. He is trying to organize an outdoor activity to climb the highest mountain among a mountain range. However, it is difficult to tell which mountain is the highest in the mountain range from a distance. Help Victor to identify the highest mountain given the height of the mountains.\n",
        "\n",
        "In order to climb a mountain, the mountain needs to either increase or decrease consistently by 1 and has at least one side to be able to be seen connected to the ground. Given that 1 is ground level, “2324” is not a valid mountain to be climbed, while “1234” and “4321” are valid mountains with height of 4.\n",
        "\n",
        "Find the height of the highest climbable mountain."
      ]
    },
    {
      "cell_type": "markdown",
      "metadata": {
        "id": "9GMiHaabAr5E",
        "colab_type": "text"
      },
      "source": [
        "## **Input**\n"
      ]
    },
    {
      "cell_type": "markdown",
      "metadata": {
        "id": "GlnwgY2eA0Vc",
        "colab_type": "text"
      },
      "source": [
        "The first line will specify the N number of mountain ranges\n",
        "\n",
        "Subsequent N sets will have length L and a series of numbers separated by space representing the height (H)\n",
        "\n",
        "Height: 1 <= H <= 1000\n",
        "\n",
        "Length: 1 <= L <= 1000"
      ]
    },
    {
      "cell_type": "markdown",
      "metadata": {
        "id": "8MrB32rBA2wI",
        "colab_type": "text"
      },
      "source": [
        "## **Output**\n"
      ]
    },
    {
      "cell_type": "markdown",
      "metadata": {
        "id": "JFJkcvdVA6Uq",
        "colab_type": "text"
      },
      "source": [
        "Integer specifying the height (H) of the highest mountain and index (I) of the peak. If there are multiple mountains with the same height, return the leftmost mountain.\n",
        "\n",
        "If the height or index is not available, return -1. Return the result for each case with format “Case #{N}: H I”"
      ]
    },
    {
      "cell_type": "code",
      "metadata": {
        "id": "RXau2QXWr1_Y",
        "colab_type": "code",
        "colab": {}
      },
      "source": [
        "import pandas as pd\n",
        "import numpy as np"
      ],
      "execution_count": 3,
      "outputs": []
    },
    {
      "cell_type": "code",
      "metadata": {
        "id": "fzSr_NTq-A-_",
        "colab_type": "code",
        "colab": {}
      },
      "source": [
        "#https://www.hackerearth.com/zh/challenges/competitive/shopee-programming-contest-2/algorithm/highest-mountain/\n",
        "# 6\n",
        "\n",
        "# 10\n",
        "# 1 2 3 2 3 4 2 3 2 5\n",
        "\n",
        "# 10\n",
        "# 3 2 3 2 3 4 3 2 1 4\n",
        "\n",
        "# 5\n",
        "# 1 1 1 1 1\n",
        "\n",
        "# 10\n",
        "# 10 9 8 7 6 5 4 3 2 1\n",
        "\n",
        "# 1\n",
        "# 5\n",
        "\n",
        "# 1\n",
        "# 1"
      ],
      "execution_count": 4,
      "outputs": []
    },
    {
      "cell_type": "code",
      "metadata": {
        "id": "oKDhVKtx0lSN",
        "colab_type": "code",
        "colab": {
          "base_uri": "https://localhost:8080/",
          "height": 34
        },
        "outputId": "f500a2fb-cf40-4b03-eee0-a33793966d59"
      },
      "source": [
        "#find all index\n",
        "##sample_list = [3,2,3,2,3,4,3,2,1,4]\n",
        "#3 2 3 2 1 2 3 4 3 2 1 4\n",
        "sample_list=input()\n",
        "sample_list=np.array(sample_list.split(\" \")).astype('int64')\n",
        "sample_list_len=len(sample_list)"
      ],
      "execution_count": 29,
      "outputs": [
        {
          "output_type": "stream",
          "text": [
            "3 2 3 2 3 4 3 2 1 4\n"
          ],
          "name": "stdout"
        }
      ]
    },
    {
      "cell_type": "code",
      "metadata": {
        "id": "4xXbEBhZr8x8",
        "colab_type": "code",
        "colab": {
          "base_uri": "https://localhost:8080/",
          "height": 34
        },
        "outputId": "d00543c4-9246-493b-c503-91ce1cd72bd1"
      },
      "source": [
        "values = np.array(sample_list)\n",
        "ii= np.where(values == 1)[0]\n",
        "print('Place of 1: '+str(ii))"
      ],
      "execution_count": 30,
      "outputs": [
        {
          "output_type": "stream",
          "text": [
            "Place of 1: [8]\n"
          ],
          "name": "stdout"
        }
      ]
    },
    {
      "cell_type": "code",
      "metadata": {
        "id": "y1IfjvLC3wNv",
        "colab_type": "code",
        "colab": {}
      },
      "source": [
        "step=1\n",
        "\n",
        "def func(iter):\n",
        "  iter=int(iter)\n",
        "  iter_l = iter ;iter_r = iter\n",
        "  tmp_l=0; tmp_r=0\n",
        "  while ( (sample_list[iter_l] < sample_list[iter_l-step]) ) & (abs(sample_list[iter_l]-sample_list[iter_l-step])==1) :\n",
        "    tmp_l = sample_list[iter_l-step] #num l\n",
        "    iter_l = iter_l-step \n",
        "  while ( (sample_list[iter_r] < sample_list[iter_r+step]) ) & (abs(sample_list[iter_r]-sample_list[iter_r+step])==1) :\n",
        "    tmp_r = sample_list[iter_r+step] #num r\n",
        "    iter_r = iter_r+step\n",
        "  if tmp_l>tmp_r:\n",
        "    #print('num_l:'+str(tmp_l)+'   '+'place_l:'+str(iter_l))\n",
        "    return int(tmp_l) , int(iter_l)\n",
        "  else:\n",
        "    #print('num_r:'+str(tmp_r)+'   '+'place_r:'+str(iter_r))\n",
        "    return int(tmp_r) , int(iter_r)"
      ],
      "execution_count": 31,
      "outputs": []
    },
    {
      "cell_type": "code",
      "metadata": {
        "id": "n3QohQlw0yBE",
        "colab_type": "code",
        "colab": {
          "base_uri": "https://localhost:8080/",
          "height": 85
        },
        "outputId": "eaa05a8e-9607-472d-dd6d-b1225023973d"
      },
      "source": [
        "%%time\n",
        "tmp_h = 0 ; tmp_i = 0\n",
        "big_h=0 ; big_i=0\n",
        "cnt=0\n",
        "for i in ii:\n",
        "  i = int(i)\n",
        "  if (i+1)>=sample_list_len:\n",
        "    break\n",
        "\n",
        "  tmp_h ,tmp_i = func(i)\n",
        "  if cnt==0:\n",
        "    big_h=tmp_h\n",
        "    big_i=tmp_i\n",
        "    cnt+=1\n",
        "  else:\n",
        "    if tmp_h>big_h:\n",
        "      big_h=tmp_h\n",
        "      big_i=tmp_i\n",
        "\n",
        "  print('Highest Value: '+str(big_h)+\"\\n\"+'Highest Value Index: '+str(big_i))\n"
      ],
      "execution_count": 36,
      "outputs": [
        {
          "output_type": "stream",
          "text": [
            "Highest Value: 4\n",
            "Highest Value Index: 5\n",
            "CPU times: user 246 µs, sys: 0 ns, total: 246 µs\n",
            "Wall time: 205 µs\n"
          ],
          "name": "stdout"
        }
      ]
    },
    {
      "cell_type": "code",
      "metadata": {
        "id": "GXXGWEPX_P2h",
        "colab_type": "code",
        "colab": {
          "base_uri": "https://localhost:8080/",
          "height": 34
        },
        "outputId": "26ec2eca-0cb3-46cf-c6eb-2e09b465910d"
      },
      "source": [
        "sample_list"
      ],
      "execution_count": 37,
      "outputs": [
        {
          "output_type": "execute_result",
          "data": {
            "text/plain": [
              "array([3, 2, 3, 2, 3, 4, 3, 2, 1, 4])"
            ]
          },
          "metadata": {
            "tags": []
          },
          "execution_count": 37
        }
      ]
    }
  ]
}